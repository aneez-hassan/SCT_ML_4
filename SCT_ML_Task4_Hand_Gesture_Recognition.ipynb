{
  "nbformat": 4,
  "nbformat_minor": 0,
  "metadata": {
    "colab": {
      "provenance": [],
      "authorship_tag": "ABX9TyNO+DPMI9NuVqCVOi8AA9re",
      "include_colab_link": true
    },
    "kernelspec": {
      "name": "python3",
      "display_name": "Python 3"
    },
    "language_info": {
      "name": "python"
    }
  },
  "cells": [
    {
      "cell_type": "markdown",
      "metadata": {
        "id": "view-in-github",
        "colab_type": "text"
      },
      "source": [
        "<a href=\"https://colab.research.google.com/github/aneez-hassan/SCT_ML_4/blob/main/SCT_ML_Task4_Hand_Gesture_Recognition.ipynb\" target=\"_parent\"><img src=\"https://colab.research.google.com/assets/colab-badge.svg\" alt=\"Open In Colab\"/></a>"
      ]
    },
    {
      "cell_type": "code",
      "execution_count": null,
      "metadata": {
        "id": "tICIhu__hHV6"
      },
      "outputs": [],
      "source": [
        "!pip install mediapipe opencv-python\n"
      ]
    },
    {
      "cell_type": "code",
      "source": [
        "import cv2\n",
        "import numpy as np\n",
        "import os\n",
        "\n",
        "os.makedirs('/content/dataset/fist', exist_ok=True)\n",
        "os.makedirs('/content/dataset/open_hand', exist_ok=True)\n",
        "\n",
        "# Create synthetic \"fist\" images (filled circle)\n",
        "for i in range(5):\n",
        "    img = np.zeros((100, 100, 3), dtype=np.uint8)\n",
        "    cv2.circle(img, (50, 50), 30, (255, 255, 255), -1)\n",
        "    cv2.imwrite(f'/content/dataset/fist/fist_{i}.png', img)\n",
        "\n",
        "# Create synthetic \"open hand\" images (five white lines to simulate fingers)\n",
        "for i in range(5):\n",
        "    img = np.zeros((100, 100, 3), dtype=np.uint8)\n",
        "    for x in range(20, 81, 15):\n",
        "        cv2.line(img, (x, 80), (x, 20), (255, 255, 255), 5)\n",
        "    cv2.imwrite(f'/content/dataset/open_hand/open_hand_{i}.png', img)\n",
        "\n",
        "print(\"Synthetic dataset with 'fist' and 'open_hand' created!\")\n"
      ],
      "metadata": {
        "id": "QG57rqTCiHeF"
      },
      "execution_count": null,
      "outputs": []
    },
    {
      "cell_type": "code",
      "source": [
        "import os\n",
        "import cv2\n",
        "import numpy as np\n",
        "from sklearn.model_selection import train_test_split\n",
        "from sklearn.svm import SVC\n",
        "from sklearn.metrics import accuracy_score, classification_report\n",
        "\n",
        "# Paths to dataset folders\n",
        "dataset_path = '/content/dataset'\n",
        "gesture_folders = {\n",
        "    'fist': os.path.join(dataset_path, 'fist'),\n",
        "    'open_hand': os.path.join(dataset_path, 'open_hand')\n",
        "}\n",
        "\n",
        "X = []\n",
        "y = []\n",
        "\n",
        "for label, folder in enumerate(gesture_folders.values()):\n",
        "    for filename in os.listdir(folder):\n",
        "        if filename.endswith('.png'):\n",
        "            file_path = os.path.join(folder, filename)\n",
        "            img = cv2.imread(file_path, cv2.IMREAD_GRAYSCALE)\n",
        "            if img is None:\n",
        "                continue\n",
        "            img_resized = cv2.resize(img, (64, 64))\n",
        "            feature_vector = img_resized.flatten()  # Flatten image to 1D array\n",
        "            X.append(feature_vector)\n",
        "            y.append(label)\n",
        "\n",
        "X = np.array(X)\n",
        "y = np.array(y)\n",
        "\n",
        "print(f\"Extracted features from {len(X)} images\")\n",
        "\n",
        "# Train/test split\n",
        "X_train, X_test, y_train, y_test = train_test_split(\n",
        "    X, y, test_size=0.3, random_state=42)\n",
        "\n",
        "# Train SVM classifier\n",
        "clf = SVC(kernel='linear')\n",
        "clf.fit(X_train, y_train)\n",
        "\n",
        "# Predict and evaluate\n",
        "y_pred = clf.predict(X_test)\n",
        "\n",
        "print(\"Accuracy:\", accuracy_score(y_test, y_pred))\n",
        "print(\"Classification Report:\\n\", classification_report(y_test, y_pred, target_names=gesture_folders.keys()))\n"
      ],
      "metadata": {
        "id": "hlRPMvkQiZvF"
      },
      "execution_count": null,
      "outputs": []
    },
    {
      "cell_type": "code",
      "source": [
        "import cv2\n",
        "import os\n",
        "import numpy as np\n",
        "\n",
        "def augment_image(img):\n",
        "    augmented_images = []\n",
        "\n",
        "    # Original\n",
        "    augmented_images.append(img)\n",
        "\n",
        "    # Flip horizontally\n",
        "    augmented_images.append(cv2.flip(img, 1))\n",
        "\n",
        "    # Rotate by 15 degrees\n",
        "    (h, w) = img.shape[:2]\n",
        "    center = (w // 2, h // 2)\n",
        "    M = cv2.getRotationMatrix2D(center, 15, 1.0)\n",
        "    rotated = cv2.warpAffine(img, M, (w, h))\n",
        "    augmented_images.append(rotated)\n",
        "\n",
        "    # Rotate by -15 degrees\n",
        "    M = cv2.getRotationMatrix2D(center, -15, 1.0)\n",
        "    rotated = cv2.warpAffine(img, M, (w, h))\n",
        "    augmented_images.append(rotated)\n",
        "\n",
        "    # Scale up by 10%\n",
        "    scaled_up = cv2.resize(img, None, fx=1.1, fy=1.1)\n",
        "    scaled_up = cv2.resize(scaled_up, (w, h))  # Resize back to original size\n",
        "    augmented_images.append(scaled_up)\n",
        "\n",
        "    # Scale down by 10%\n",
        "    scaled_down = cv2.resize(img, None, fx=0.9, fy=0.9)\n",
        "    scaled_down = cv2.resize(scaled_down, (w, h))\n",
        "    augmented_images.append(scaled_down)\n",
        "\n",
        "    return augmented_images\n",
        "\n",
        "# Example usage:\n",
        "dataset_path = '/content/dataset'\n",
        "gesture_folders = {\n",
        "    'fist': os.path.join(dataset_path, 'fist'),\n",
        "    'open_hand': os.path.join(dataset_path, 'open_hand')\n",
        "}\n",
        "\n",
        "augmented_dataset_path = '/content/dataset_augmented'\n",
        "os.makedirs(augmented_dataset_path, exist_ok=True)\n",
        "\n",
        "for gesture, folder in gesture_folders.items():\n",
        "    new_folder = os.path.join(augmented_dataset_path, gesture)\n",
        "    os.makedirs(new_folder, exist_ok=True)\n",
        "\n",
        "    for filename in os.listdir(folder):\n",
        "        if filename.endswith('.png'):\n",
        "            img_path = os.path.join(folder, filename)\n",
        "            img = cv2.imread(img_path, cv2.IMREAD_GRAYSCALE)\n",
        "\n",
        "            augmented_images = augment_image(img)\n",
        "            for i, aug_img in enumerate(augmented_images):\n",
        "                save_path = os.path.join(new_folder, f\"{os.path.splitext(filename)[0]}_aug{i}.png\")\n",
        "                cv2.imwrite(save_path, aug_img)\n",
        "\n",
        "print(\"Augmentation done! Augmented dataset saved at:\", augmented_dataset_path)\n"
      ],
      "metadata": {
        "id": "d1_F451Pims8"
      },
      "execution_count": null,
      "outputs": []
    }
  ]
}